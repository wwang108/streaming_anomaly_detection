{
 "cells": [
  {
   "cell_type": "code",
   "execution_count": 1,
   "metadata": {},
   "outputs": [],
   "source": [
    "import pandas as pd\n",
    "import requests\n",
    "import time\n",
    "\n",
    "# read file and do some cleaning\n",
    "\n",
    "df = pd.read_parquet('~/Desktop/data/12-04.snappy.parquet')\n",
    "df['block_timestamp'] = df['block_timestamp'].astype('str')\n",
    "df['last_modified'] = df['last_modified'].astype('str')\n",
    "\n",
    "url = 'http://localhost:8001/api/predict'\n",
    "# send messages using df\n",
    "def send_df_rows_new(df, url, start_row=0, messages_per_minute=30):\n",
    "    rate_limit = 60 / messages_per_minute\n",
    "\n",
    "    for index in range(start_row, len(df)):\n",
    "        row_data = df.iloc[index].to_dict()\n",
    "        response = requests.post(url, data=json.dumps(row_data), headers={'Content-Type': 'application/json'})\n",
    "        print(f\"row {index} sent\")\n",
    "        time.sleep(rate_limit)"
   ]
  },
  {
   "cell_type": "code",
   "execution_count": null,
   "metadata": {},
   "outputs": [],
   "source": [
    "send_df_rows_new(df, url, start_row=0, messages_per_minute=30)"
   ]
  }
 ],
 "metadata": {
  "kernelspec": {
   "display_name": ".venv",
   "language": "python",
   "name": "python3"
  },
  "language_info": {
   "codemirror_mode": {
    "name": "ipython",
    "version": 3
   },
   "file_extension": ".py",
   "mimetype": "text/x-python",
   "name": "python",
   "nbconvert_exporter": "python",
   "pygments_lexer": "ipython3",
   "version": "3.10.10"
  }
 },
 "nbformat": 4,
 "nbformat_minor": 2
}
